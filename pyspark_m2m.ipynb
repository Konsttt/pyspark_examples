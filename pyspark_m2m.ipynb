{
 "cells": [
  {
   "cell_type": "code",
   "execution_count": 3,
   "id": "be6ff4b9",
   "metadata": {},
   "outputs": [
    {
     "name": "stdout",
     "output_type": "stream",
     "text": [
      "+-------+--------+\n",
      "|id_prod|products|\n",
      "+-------+--------+\n",
      "|      1|   apple|\n",
      "|      2|  xiaomi|\n",
      "|      3| samsung|\n",
      "|      4|  huawei|\n",
      "|      5|    sony|\n",
      "|      6|   sharp|\n",
      "+-------+--------+\n",
      "\n"
     ]
    }
   ],
   "source": [
    "# Preinstall: https://sparkbyexamples.com/pyspark/install-pyspark-in-anaconda-jupyter-notebook/  - запуск pyspark\n",
    "\n",
    "import findspark\n",
    "import pyspark\n",
    "from pyspark.sql import SparkSession\n",
    "\n",
    "\n",
    "findspark.init()\n",
    "spark = SparkSession.builder.getOrCreate()\n",
    "\n",
    "## Тестовые данные ##\n",
    "# Продукты\n",
    "df_products = spark.createDataFrame([\n",
    "    (1, 'apple'),\n",
    "    (2, 'xiaomi'),\n",
    "    (3, 'samsung'),\n",
    "    (4, 'huawei'),\n",
    "    (5, 'sony'),\n",
    "    (6, 'sharp')],\n",
    "    ['id_prod', 'products'])\n",
    "df_products.show()"
   ]
  },
  {
   "cell_type": "code",
   "execution_count": 4,
   "id": "7eba0164",
   "metadata": {},
   "outputs": [
    {
     "name": "stdout",
     "output_type": "stream",
     "text": [
      "+------+----------+\n",
      "|id_cat|categories|\n",
      "+------+----------+\n",
      "|     1|    phones|\n",
      "|     2|      pads|\n",
      "|     3|   laptops|\n",
      "|     4|  monitors|\n",
      "|     5|microwaves|\n",
      "+------+----------+\n",
      "\n"
     ]
    }
   ],
   "source": [
    "# Категории\n",
    "df_categories = spark.createDataFrame([\n",
    "    (1, 'phones'),\n",
    "    (2, 'pads'),\n",
    "    (3, 'laptops'),\n",
    "    (4, 'monitors'),\n",
    "    (5, 'microwaves')],\n",
    "    ['id_cat', 'categories'])\n",
    "df_categories.show()"
   ]
  },
  {
   "cell_type": "code",
   "execution_count": 6,
   "id": "3a83f836",
   "metadata": {},
   "outputs": [
    {
     "name": "stdout",
     "output_type": "stream",
     "text": [
      "+-------+------+\n",
      "|id_prod|id_cat|\n",
      "+-------+------+\n",
      "|      1|     1|\n",
      "|      1|     2|\n",
      "|      1|     3|\n",
      "|      2|     1|\n",
      "|      2|     2|\n",
      "|      3|     1|\n",
      "|      3|     2|\n",
      "|      3|     4|\n",
      "|      4|     1|\n",
      "|      4|     4|\n",
      "+-------+------+\n",
      "\n"
     ]
    }
   ],
   "source": [
    "# Связь m2m Продукты-Категории\n",
    "df_prod2cat = spark.createDataFrame([(1, 1), (1, 2), (1, 3), (2, 1), (2, 2), \n",
    "                                     (3, 1), (3, 2), (3, 4), (4, 1), (4, 4)],\n",
    "                                    ['id_prod', 'id_cat'])\n",
    "df_prod2cat.show()"
   ]
  },
  {
   "cell_type": "code",
   "execution_count": 10,
   "id": "3a6d4a7d",
   "metadata": {},
   "outputs": [
    {
     "name": "stdout",
     "output_type": "stream",
     "text": [
      "+--------+----------+\n",
      "|products|categories|\n",
      "+--------+----------+\n",
      "| samsung|  monitors|\n",
      "| samsung|      pads|\n",
      "| samsung|    phones|\n",
      "|   sharp|      null|\n",
      "|    sony|      null|\n",
      "+--------+----------+\n",
      "\n"
     ]
    }
   ],
   "source": [
    "def prod_name_and_null_cat(df_p, df_c, df_m2m, product_name):\n",
    "    \n",
    "    # датафрейм m2m, где вместо id-шников названия продуктов и категорий, включая позиции null с обeих сторон\n",
    "    df_pc = df_m2m.join(df_p, df_p.id_prod == df_m2m.id_prod, 'outer')\\\n",
    "    .join(df_c, df_c.id_cat == df_m2m.id_cat, 'outer')\\\n",
    "    .select('products', 'categories').sort('products')\n",
    "    \n",
    "    # датафрейм - все пары 'заданное Имя продукта' - 'Категория'\n",
    "    df_pr_name = df_pc.filter(df_pc.products == product_name)\n",
    "    \n",
    "    # датафрейм - все продукты, категория которых null\n",
    "    df_cat_null = df_pc.filter(df_pc.categories.isNull())\n",
    "    \n",
    "    return df_pr_name.union(df_cat_null)  # объединение двух результирующих датафреймов\n",
    "\n",
    "\n",
    "# Проверка ф-ции на тестовых датафреймах\n",
    "prod_name_and_null_cat(df_products, df_categories, df_prod2cat, 'samsung').show()"
   ]
  },
  {
   "cell_type": "code",
   "execution_count": null,
   "id": "84b897bd",
   "metadata": {},
   "outputs": [],
   "source": []
  }
 ],
 "metadata": {
  "kernelspec": {
   "display_name": "Python 3 (ipykernel)",
   "language": "python",
   "name": "python3"
  },
  "language_info": {
   "codemirror_mode": {
    "name": "ipython",
    "version": 3
   },
   "file_extension": ".py",
   "mimetype": "text/x-python",
   "name": "python",
   "nbconvert_exporter": "python",
   "pygments_lexer": "ipython3",
   "version": "3.11.5"
  }
 },
 "nbformat": 4,
 "nbformat_minor": 5
}
